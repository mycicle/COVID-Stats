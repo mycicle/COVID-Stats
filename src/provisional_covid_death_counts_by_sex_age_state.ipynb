{
 "cells": [
  {
   "cell_type": "code",
   "execution_count": 1,
   "metadata": {},
   "outputs": [],
   "source": [
    "import pandas as pd\n",
    "import numpy as np\n",
    "\n",
    "from os.path import join\n",
    "from typing import List, Dict\n",
    "\n",
    "from utils import missing_zero_values_table\n",
    "from constants import data_folder"
   ]
  },
  {
   "cell_type": "code",
   "execution_count": 2,
   "metadata": {},
   "outputs": [
    {
     "data": {
      "text/html": [
       "<div>\n",
       "<style scoped>\n",
       "    .dataframe tbody tr th:only-of-type {\n",
       "        vertical-align: middle;\n",
       "    }\n",
       "\n",
       "    .dataframe tbody tr th {\n",
       "        vertical-align: top;\n",
       "    }\n",
       "\n",
       "    .dataframe thead th {\n",
       "        text-align: right;\n",
       "    }\n",
       "</style>\n",
       "<table border=\"1\" class=\"dataframe\">\n",
       "  <thead>\n",
       "    <tr style=\"text-align: right;\">\n",
       "      <th></th>\n",
       "      <th>Data as of</th>\n",
       "      <th>Start week</th>\n",
       "      <th>End Week</th>\n",
       "      <th>State</th>\n",
       "      <th>Sex</th>\n",
       "      <th>Age group</th>\n",
       "      <th>COVID-19 Deaths</th>\n",
       "      <th>Total Deaths</th>\n",
       "      <th>Pneumonia Deaths</th>\n",
       "      <th>Pneumonia and COVID-19 Deaths</th>\n",
       "      <th>Influenza Deaths</th>\n",
       "      <th>Pneumonia, Influenza, or COVID-19 Deaths</th>\n",
       "      <th>Footnote</th>\n",
       "    </tr>\n",
       "  </thead>\n",
       "  <tbody>\n",
       "    <tr>\n",
       "      <th>0</th>\n",
       "      <td>12/02/2020</td>\n",
       "      <td>02/01/2020</td>\n",
       "      <td>11/28/2020</td>\n",
       "      <td>United States</td>\n",
       "      <td>All Sexes</td>\n",
       "      <td>All Ages</td>\n",
       "      <td>249570.0</td>\n",
       "      <td>2635214.0</td>\n",
       "      <td>249148.0</td>\n",
       "      <td>113943.0</td>\n",
       "      <td>6852.0</td>\n",
       "      <td>390588.0</td>\n",
       "      <td>NaN</td>\n",
       "    </tr>\n",
       "    <tr>\n",
       "      <th>1</th>\n",
       "      <td>12/02/2020</td>\n",
       "      <td>02/01/2020</td>\n",
       "      <td>11/28/2020</td>\n",
       "      <td>United States</td>\n",
       "      <td>All Sexes</td>\n",
       "      <td>Under 1 year</td>\n",
       "      <td>29.0</td>\n",
       "      <td>14843.0</td>\n",
       "      <td>139.0</td>\n",
       "      <td>4.0</td>\n",
       "      <td>15.0</td>\n",
       "      <td>179.0</td>\n",
       "      <td>NaN</td>\n",
       "    </tr>\n",
       "    <tr>\n",
       "      <th>2</th>\n",
       "      <td>12/02/2020</td>\n",
       "      <td>02/01/2020</td>\n",
       "      <td>11/28/2020</td>\n",
       "      <td>United States</td>\n",
       "      <td>All Sexes</td>\n",
       "      <td>0-17 years</td>\n",
       "      <td>127.0</td>\n",
       "      <td>26333.0</td>\n",
       "      <td>407.0</td>\n",
       "      <td>20.0</td>\n",
       "      <td>123.0</td>\n",
       "      <td>637.0</td>\n",
       "      <td>NaN</td>\n",
       "    </tr>\n",
       "    <tr>\n",
       "      <th>3</th>\n",
       "      <td>12/02/2020</td>\n",
       "      <td>02/01/2020</td>\n",
       "      <td>11/28/2020</td>\n",
       "      <td>United States</td>\n",
       "      <td>All Sexes</td>\n",
       "      <td>1-4 years</td>\n",
       "      <td>16.0</td>\n",
       "      <td>2768.0</td>\n",
       "      <td>91.0</td>\n",
       "      <td>2.0</td>\n",
       "      <td>42.0</td>\n",
       "      <td>147.0</td>\n",
       "      <td>NaN</td>\n",
       "    </tr>\n",
       "    <tr>\n",
       "      <th>4</th>\n",
       "      <td>12/02/2020</td>\n",
       "      <td>02/01/2020</td>\n",
       "      <td>11/28/2020</td>\n",
       "      <td>United States</td>\n",
       "      <td>All Sexes</td>\n",
       "      <td>5-14 years</td>\n",
       "      <td>44.0</td>\n",
       "      <td>4453.0</td>\n",
       "      <td>120.0</td>\n",
       "      <td>7.0</td>\n",
       "      <td>53.0</td>\n",
       "      <td>210.0</td>\n",
       "      <td>NaN</td>\n",
       "    </tr>\n",
       "  </tbody>\n",
       "</table>\n",
       "</div>"
      ],
      "text/plain": [
       "   Data as of  Start week    End Week          State        Sex     Age group  \\\n",
       "0  12/02/2020  02/01/2020  11/28/2020  United States  All Sexes      All Ages   \n",
       "1  12/02/2020  02/01/2020  11/28/2020  United States  All Sexes  Under 1 year   \n",
       "2  12/02/2020  02/01/2020  11/28/2020  United States  All Sexes    0-17 years   \n",
       "3  12/02/2020  02/01/2020  11/28/2020  United States  All Sexes     1-4 years   \n",
       "4  12/02/2020  02/01/2020  11/28/2020  United States  All Sexes    5-14 years   \n",
       "\n",
       "   COVID-19 Deaths  Total Deaths  Pneumonia Deaths  \\\n",
       "0         249570.0     2635214.0          249148.0   \n",
       "1             29.0       14843.0             139.0   \n",
       "2            127.0       26333.0             407.0   \n",
       "3             16.0        2768.0              91.0   \n",
       "4             44.0        4453.0             120.0   \n",
       "\n",
       "   Pneumonia and COVID-19 Deaths  Influenza Deaths  \\\n",
       "0                       113943.0            6852.0   \n",
       "1                            4.0              15.0   \n",
       "2                           20.0             123.0   \n",
       "3                            2.0              42.0   \n",
       "4                            7.0              53.0   \n",
       "\n",
       "   Pneumonia, Influenza, or COVID-19 Deaths Footnote  \n",
       "0                                  390588.0      NaN  \n",
       "1                                     179.0      NaN  \n",
       "2                                     637.0      NaN  \n",
       "3                                     147.0      NaN  \n",
       "4                                     210.0      NaN  "
      ]
     },
     "execution_count": 2,
     "metadata": {},
     "output_type": "execute_result"
    }
   ],
   "source": [
    "raw_data: pd.DataFrame = pd.read_csv(join(data_folder, \"Provisional_COVID-19_Death_Counts_by_Sex__Age__and_State.csv\"))\n",
    "raw_data.head()"
   ]
  },
  {
   "cell_type": "code",
   "execution_count": 3,
   "metadata": {},
   "outputs": [
    {
     "name": "stdout",
     "output_type": "stream",
     "text": [
      "<class 'pandas.core.frame.DataFrame'>\n",
      "RangeIndex: 2661 entries, 0 to 2660\n",
      "Data columns (total 13 columns):\n",
      " #   Column                                    Non-Null Count  Dtype  \n",
      "---  ------                                    --------------  -----  \n",
      " 0   Data as of                                2661 non-null   object \n",
      " 1   Start week                                2661 non-null   object \n",
      " 2   End Week                                  2661 non-null   object \n",
      " 3   State                                     2661 non-null   object \n",
      " 4   Sex                                       2661 non-null   object \n",
      " 5   Age group                                 2661 non-null   object \n",
      " 6   COVID-19 Deaths                           2271 non-null   float64\n",
      " 7   Total Deaths                              2488 non-null   float64\n",
      " 8   Pneumonia Deaths                          2181 non-null   float64\n",
      " 9   Pneumonia and COVID-19 Deaths             2292 non-null   float64\n",
      " 10  Influenza Deaths                          1896 non-null   float64\n",
      " 11  Pneumonia, Influenza, or COVID-19 Deaths  2184 non-null   float64\n",
      " 12  Footnote                                  1299 non-null   object \n",
      "dtypes: float64(6), object(7)\n",
      "memory usage: 270.4+ KB\n"
     ]
    }
   ],
   "source": [
    "raw_data.info()"
   ]
  },
  {
   "cell_type": "code",
   "execution_count": 4,
   "metadata": {},
   "outputs": [
    {
     "data": {
      "text/html": [
       "<div>\n",
       "<style scoped>\n",
       "    .dataframe tbody tr th:only-of-type {\n",
       "        vertical-align: middle;\n",
       "    }\n",
       "\n",
       "    .dataframe tbody tr th {\n",
       "        vertical-align: top;\n",
       "    }\n",
       "\n",
       "    .dataframe thead th {\n",
       "        text-align: right;\n",
       "    }\n",
       "</style>\n",
       "<table border=\"1\" class=\"dataframe\">\n",
       "  <thead>\n",
       "    <tr style=\"text-align: right;\">\n",
       "      <th></th>\n",
       "      <th>Zero Count</th>\n",
       "      <th>Na Count</th>\n",
       "      <th>% of Total</th>\n",
       "      <th>Zero + Na Count</th>\n",
       "      <th>% Zero + Na Count</th>\n",
       "      <th>Data Type</th>\n",
       "    </tr>\n",
       "  </thead>\n",
       "  <tbody>\n",
       "    <tr>\n",
       "      <th>Footnote</th>\n",
       "      <td>0</td>\n",
       "      <td>1362</td>\n",
       "      <td>51.2</td>\n",
       "      <td>1362</td>\n",
       "      <td>51.2</td>\n",
       "      <td>object</td>\n",
       "    </tr>\n",
       "    <tr>\n",
       "      <th>Influenza Deaths</th>\n",
       "      <td>1406</td>\n",
       "      <td>765</td>\n",
       "      <td>28.7</td>\n",
       "      <td>2171</td>\n",
       "      <td>81.6</td>\n",
       "      <td>float64</td>\n",
       "    </tr>\n",
       "    <tr>\n",
       "      <th>Pneumonia Deaths</th>\n",
       "      <td>1046</td>\n",
       "      <td>480</td>\n",
       "      <td>18.0</td>\n",
       "      <td>1526</td>\n",
       "      <td>57.3</td>\n",
       "      <td>float64</td>\n",
       "    </tr>\n",
       "    <tr>\n",
       "      <th>Pneumonia, Influenza, or COVID-19 Deaths</th>\n",
       "      <td>976</td>\n",
       "      <td>477</td>\n",
       "      <td>17.9</td>\n",
       "      <td>1453</td>\n",
       "      <td>54.6</td>\n",
       "      <td>float64</td>\n",
       "    </tr>\n",
       "    <tr>\n",
       "      <th>COVID-19 Deaths</th>\n",
       "      <td>1208</td>\n",
       "      <td>390</td>\n",
       "      <td>14.7</td>\n",
       "      <td>1598</td>\n",
       "      <td>60.1</td>\n",
       "      <td>float64</td>\n",
       "    </tr>\n",
       "    <tr>\n",
       "      <th>Pneumonia and COVID-19 Deaths</th>\n",
       "      <td>1368</td>\n",
       "      <td>369</td>\n",
       "      <td>13.9</td>\n",
       "      <td>1737</td>\n",
       "      <td>65.3</td>\n",
       "      <td>float64</td>\n",
       "    </tr>\n",
       "    <tr>\n",
       "      <th>Total Deaths</th>\n",
       "      <td>734</td>\n",
       "      <td>173</td>\n",
       "      <td>6.5</td>\n",
       "      <td>907</td>\n",
       "      <td>34.1</td>\n",
       "      <td>float64</td>\n",
       "    </tr>\n",
       "  </tbody>\n",
       "</table>\n",
       "</div>"
      ],
      "text/plain": [
       "                                          Zero Count  Na Count  % of Total  \\\n",
       "Footnote                                           0      1362        51.2   \n",
       "Influenza Deaths                                1406       765        28.7   \n",
       "Pneumonia Deaths                                1046       480        18.0   \n",
       "Pneumonia, Influenza, or COVID-19 Deaths         976       477        17.9   \n",
       "COVID-19 Deaths                                 1208       390        14.7   \n",
       "Pneumonia and COVID-19 Deaths                   1368       369        13.9   \n",
       "Total Deaths                                     734       173         6.5   \n",
       "\n",
       "                                          Zero + Na Count  % Zero + Na Count  \\\n",
       "Footnote                                             1362               51.2   \n",
       "Influenza Deaths                                     2171               81.6   \n",
       "Pneumonia Deaths                                     1526               57.3   \n",
       "Pneumonia, Influenza, or COVID-19 Deaths             1453               54.6   \n",
       "COVID-19 Deaths                                      1598               60.1   \n",
       "Pneumonia and COVID-19 Deaths                        1737               65.3   \n",
       "Total Deaths                                          907               34.1   \n",
       "\n",
       "                                         Data Type  \n",
       "Footnote                                    object  \n",
       "Influenza Deaths                           float64  \n",
       "Pneumonia Deaths                           float64  \n",
       "Pneumonia, Influenza, or COVID-19 Deaths   float64  \n",
       "COVID-19 Deaths                            float64  \n",
       "Pneumonia and COVID-19 Deaths              float64  \n",
       "Total Deaths                               float64  "
      ]
     },
     "execution_count": 4,
     "metadata": {},
     "output_type": "execute_result"
    }
   ],
   "source": [
    "missing_zero_values_table(raw_data)"
   ]
  },
  {
   "cell_type": "markdown",
   "metadata": {},
   "source": [
    "Importantly, zero's do not mean that the data is missing, they simply mean that there were no deaths, so the test above is a little heavy handed.\n",
    "Additionally, all of the footnotes are the message <b>\"One or more data cells have counts between 1-9 and have been suppressed in accordance with NCHS confidentiality standards.\"</b>\n",
    "\n",
    "Because of this, I will fill in all N/A values within rows that contain this footnote with <code>footnote_fill_value</code>\n",
    "\n",
    "Any N/A values that are encountered without this footnote will be left blank"
   ]
  },
  {
   "cell_type": "code",
   "execution_count": 5,
   "metadata": {},
   "outputs": [],
   "source": [
    "footnote_fill_value: int = 5\n",
    "footnote_fill_text: str = \"One or more data cells have counts between 1-9 and have been suppressed in accordance with NCHS confidentiality standards.\"\n",
    "footnote_col: str = \"Footnote\""
   ]
  },
  {
   "cell_type": "code",
   "execution_count": 6,
   "metadata": {},
   "outputs": [],
   "source": [
    "numeric_columns: List[str] = raw_data.select_dtypes(include=['float64', 'int64']).columns"
   ]
  },
  {
   "cell_type": "code",
   "execution_count": 7,
   "metadata": {},
   "outputs": [],
   "source": [
    "data: pd.DataFrame = raw_data.copy()\n",
    "for col in numeric_columns:\n",
    "    data.loc[(pd.isnull(data[col])), col] = footnote_fill_value"
   ]
  },
  {
   "cell_type": "code",
   "execution_count": 8,
   "metadata": {},
   "outputs": [
    {
     "data": {
      "text/html": [
       "<div>\n",
       "<style scoped>\n",
       "    .dataframe tbody tr th:only-of-type {\n",
       "        vertical-align: middle;\n",
       "    }\n",
       "\n",
       "    .dataframe tbody tr th {\n",
       "        vertical-align: top;\n",
       "    }\n",
       "\n",
       "    .dataframe thead th {\n",
       "        text-align: right;\n",
       "    }\n",
       "</style>\n",
       "<table border=\"1\" class=\"dataframe\">\n",
       "  <thead>\n",
       "    <tr style=\"text-align: right;\">\n",
       "      <th></th>\n",
       "      <th>Zero Count</th>\n",
       "      <th>Na Count</th>\n",
       "      <th>% of Total</th>\n",
       "      <th>Zero + Na Count</th>\n",
       "      <th>% Zero + Na Count</th>\n",
       "      <th>Data Type</th>\n",
       "    </tr>\n",
       "  </thead>\n",
       "  <tbody>\n",
       "    <tr>\n",
       "      <th>Footnote</th>\n",
       "      <td>0</td>\n",
       "      <td>1362</td>\n",
       "      <td>51.2</td>\n",
       "      <td>1362</td>\n",
       "      <td>51.2</td>\n",
       "      <td>object</td>\n",
       "    </tr>\n",
       "  </tbody>\n",
       "</table>\n",
       "</div>"
      ],
      "text/plain": [
       "          Zero Count  Na Count  % of Total  Zero + Na Count  \\\n",
       "Footnote           0      1362        51.2             1362   \n",
       "\n",
       "          % Zero + Na Count Data Type  \n",
       "Footnote               51.2    object  "
      ]
     },
     "execution_count": 8,
     "metadata": {},
     "output_type": "execute_result"
    }
   ],
   "source": [
    "missing_zero_values_table(data)"
   ]
  },
  {
   "cell_type": "markdown",
   "metadata": {},
   "source": [
    "So the fact that literally every Na value from every row that isn't the Footnote disappeared could mean two things:\n",
    "\n",
    "- Our hospitals report all of the data they are responsible for (thats pretty cool)\n",
    "    \n",
    "- The only missing datapoints are values between 1 and 9   (this is speculation as a datapoint could be excluded from a row because of NCHS confidentiality and for some other reason, which means that the other missing value could be something else, but I don't think this is as likely considering <b>Every row with an Na value had that NCHS Confidentiality exclusion</b>\n",
    "\n",
    "Because of this, I think that our initial assumption of filling in Na values with <code>footnote_fill_value</code> (initially 5.0) is reasonable"
   ]
  },
  {
   "cell_type": "markdown",
   "metadata": {},
   "source": [
    "Moving on, lets actually breaking up this data by age"
   ]
  },
  {
   "cell_type": "code",
   "execution_count": 9,
   "metadata": {},
   "outputs": [
    {
     "name": "stdout",
     "output_type": "stream",
     "text": [
      "['0-17 years', '1-4 years', '15-24 years', '18-29 years', '25-34 years', '30-49 years', '35-44 years', '45-54 years', '5-14 years', '50-64 years', '55-64 years', '65-74 years', '75-84 years', '85 years and over', 'All Ages', 'Under 1 year']\n"
     ]
    }
   ],
   "source": [
    "age_groups: List[str] = sorted(data['Age group'].unique())\n",
    "print(age_groups)"
   ]
  },
  {
   "cell_type": "code",
   "execution_count": 13,
   "metadata": {},
   "outputs": [],
   "source": [
    "data_by_age: Dict[str, pd.DataFrame] = {}\n",
    "for age_group in age_groups:\n",
    "    data_by_age[age_group] = data[data['Age group'] == age_group]"
   ]
  },
  {
   "cell_type": "code",
   "execution_count": null,
   "metadata": {},
   "outputs": [],
   "source": []
  }
 ],
 "metadata": {
  "kernelspec": {
   "display_name": "Python 3",
   "language": "python",
   "name": "python3"
  },
  "language_info": {
   "codemirror_mode": {
    "name": "ipython",
    "version": 3
   },
   "file_extension": ".py",
   "mimetype": "text/x-python",
   "name": "python",
   "nbconvert_exporter": "python",
   "pygments_lexer": "ipython3",
   "version": "3.8.5"
  }
 },
 "nbformat": 4,
 "nbformat_minor": 4
}
